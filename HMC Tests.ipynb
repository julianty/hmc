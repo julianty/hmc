{
 "cells": [
  {
   "cell_type": "code",
   "execution_count": 56,
   "metadata": {},
   "outputs": [],
   "source": [
    "import numpy as np\n",
    "import matplotlib.pyplot as plt\n",
    "import scipy.integrate as integrate\n",
    "import scipy.io as sio\n",
    "#from Lorenz96_RK4 import Lorenz96\n",
    "from L96_Model import L96\n",
    "import sys, os\n"
   ]
  },
  {
   "cell_type": "code",
   "execution_count": 76,
   "metadata": {},
   "outputs": [],
   "source": [
    "# Data, Data Assimilation Hyperparameters\n",
    "D = 20\n",
    "Dobs = 12\n",
    "dims = set(np.arange(20))\n",
    "#dim_obs = [1, 2, 3, 5, 7, 9, 11, 13, 15, 17, 18, 19]\n",
    "dim_obs = [0, 1, 2, 4, 6, 8, 10, 12, 14, 16, 17, 18]\n",
    "dim_unobs = list(dims - set(dim_obs))\n",
    "M = 200\n",
    "\n",
    "# Annealing Hyperparameters\n",
    "Rm = 1\n",
    "Rf0 = 1e6\n",
    "alpha = 1.3\n",
    "betamax = 1\n",
    "# Temperature\n",
    "Te = np.exp(1e-1*np.arange(niter))\n",
    "\n",
    "\n",
    "# Hamiltonian Monte Carlo Hyperparameters\n",
    "niter = int(1e3)\n",
    "epsilon = 1e-3*np.ones((1,niter))\n",
    "L = 150\n",
    "mass = [1e3, 1e-2, 1e0]\n",
    "\n",
    "# Post-processing\n",
    "plot_Action_vs_beta = False\n",
    "savedata = False"
   ]
  },
  {
   "cell_type": "code",
   "execution_count": 58,
   "metadata": {},
   "outputs": [],
   "source": [
    "# Load the data set\n",
    "gen_nu = \"8.17\"\n",
    "gen_noise = \"sig0.4\"\n",
    "gen_dt = \"0.001\"\n",
    "gen_delta_t = \"0.025\"\n",
    "gen_integrator = \"RK4\"\n",
    "\n",
    "# Specify the data path\n",
    "datapath = (\"./L96_D%s_nu%s_%s_dt%s_deltat%s_%s.mat\" % \n",
    "    (str(D), gen_nu, gen_noise, gen_dt, gen_delta_t, gen_integrator))\n",
    "\n",
    "if datapath[-3:] == \"mat\":\n",
    "    datadict = sio.loadmat(datapath)\n",
    "    data = datadict[\"Data\"]\n",
    "    dt = datadict[\"delta_t\"]\n",
    "elif datapath[-3:] == \"npy\":\n",
    "    data = np.load(datapath)\n",
    "else:\n",
    "    raise IOError (\"Does not recognize data file extension\\n datapath = %s\" % datapath)\n",
    "    sys.exit()"
   ]
  },
  {
   "cell_type": "code",
   "execution_count": 85,
   "metadata": {},
   "outputs": [],
   "source": [
    "# Prepare the data\n",
    "Y = data[dim_obs,:M]\n",
    "\n",
    "#Initialize the state variables\n",
    "np.random.seed(12345)\n",
    "X_init = np.zeros((D,M))\n",
    "X_init[:,0] = 20*np.random.random(size=(D))\n",
    "X_init[dim_obs, :] = Y\n",
    "\n",
    "for i in range(1, M): # should be M -1??\n",
    "    X_init[:,i] = X_init[:,i-1] + dt * "
   ]
  },
  {
   "cell_type": "code",
   "execution_count": 89,
   "metadata": {},
   "outputs": [
    {
     "name": "stdout",
     "output_type": "stream",
     "text": [
      "[-1.48508531  1.11390342 -1.13540662  4.09120557  1.94734112 11.91089406\n",
      " -1.91878251 13.06354194 -0.6047727  13.07139742 -0.98195435 19.22613472\n",
      "  4.32478077  2.12888753  7.00115957 13.12822366  2.65478063  1.86368711\n",
      "  2.13376556 14.47370694]\n"
     ]
    }
   ],
   "source": [
    "\n",
    "print(X_init[:,0])"
   ]
  },
  {
   "cell_type": "code",
   "execution_count": null,
   "metadata": {},
   "outputs": [],
   "source": []
  },
  {
   "cell_type": "code",
   "execution_count": null,
   "metadata": {},
   "outputs": [],
   "source": []
  },
  {
   "cell_type": "code",
   "execution_count": null,
   "metadata": {},
   "outputs": [],
   "source": []
  },
  {
   "cell_type": "code",
   "execution_count": null,
   "metadata": {},
   "outputs": [],
   "source": []
  },
  {
   "cell_type": "code",
   "execution_count": null,
   "metadata": {},
   "outputs": [],
   "source": [
    "def generate_data():\n",
    "    \"\"\"\n",
    "        This function is optional, in case you do not want to use previous data\n",
    "    \"\"\"\n",
    "    # Set the hyperparamters for generating the data\n",
    "    # stepsize = dt\n",
    "    stepsize = 0.01\n",
    "\n",
    "    # How many time points\n",
    "    steps = 1000\n",
    "\n",
    "    # Initial point\n",
    "    np.random.seed(123456)\n",
    "    D = 20\n",
    "    y0 = np.random.random(D)*3\n",
    "    t0 = 0\n",
    "    F = 8\n",
    "\n",
    "    sample = Lorenz96(y0, t0, D, F)\n",
    "    data = sample.generate(stepsize=stepsize, steps=steps, addNoise=True, noise_level=0.04)\n",
    "    return data"
   ]
  }
 ],
 "metadata": {
  "kernelspec": {
   "display_name": "Python 2",
   "language": "python",
   "name": "python2"
  },
  "language_info": {
   "codemirror_mode": {
    "name": "ipython",
    "version": 2
   },
   "file_extension": ".py",
   "mimetype": "text/x-python",
   "name": "python",
   "nbconvert_exporter": "python",
   "pygments_lexer": "ipython2",
   "version": "2.7.15"
  }
 },
 "nbformat": 4,
 "nbformat_minor": 2
}
