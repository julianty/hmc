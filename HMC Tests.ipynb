{
 "cells": [
  {
   "cell_type": "code",
   "execution_count": 1,
   "metadata": {},
   "outputs": [],
   "source": [
    "import numpy as np\n",
    "import matplotlib.pyplot as plt\n",
    "import scipy.integrate as integrate\n",
    "import scipy.io as sio\n",
    "#from Lorenz96_RK4 import Lorenz96\n",
    "from L96_Model import L96\n",
    "import sys, os, time\n"
   ]
  },
  {
   "cell_type": "code",
   "execution_count": 23,
   "metadata": {},
   "outputs": [],
   "source": [
    "# Data, Data Assimilation Hyperparameters\n",
    "D = 20\n",
    "Dobs = 12\n",
    "dims = set(np.arange(20))\n",
    "#dim_obs = [1, 2, 3, 5, 7, 9, 11, 13, 15, 17, 18, 19]\n",
    "dim_obs = [0, 1, 2, 4, 6, 8, 10, 12, 14, 16, 17, 18]\n",
    "dim_unobs = list(dims - set(dim_obs))\n",
    "M = 200\n",
    "\n",
    "# Annealing Hyperparameters\n",
    "Rm = 1\n",
    "Rf0 = 1e6\n",
    "alpha = 1.3\n",
    "betamax = 1\n",
    "\n",
    "\n",
    "# Hamiltonian Monte Carlo Hyperparameters\n",
    "niter = int(1e3)\n",
    "Te = np.exp(1e-1*np.arange(niter))  # Temperature\n",
    "epsilon = 1e-3*np.ones((1,niter))\n",
    "L = 150\n",
    "mass = [1e3, 1e-2, 1e0]\n",
    "# Hamiltonian Monte Carlo Tuning Parameters\n",
    "mass_X = np.zeros(shape=(D,M))\n",
    "mass_X[dim_obs,:] = mass[0]\n",
    "mass_X[dim_unobs,:] = mass[1]\n",
    "mass_nu = mass[2]\n",
    "\n",
    "mass_X_sqrt = np.zeros(shape=(D,M))\n",
    "mass_X_sqrt[dim_obs,:] = np.sqrt(2*mass[0])\n",
    "mass_X_sqrt[dim_unobs,:] = np.sqrt(2*mass[1])\n",
    "mass_nu_sqrt = np.sqrt(2*mass[2])\n",
    "\n",
    "# Post-processing\n",
    "plot_Action_vs_beta = False\n",
    "savedata = False"
   ]
  },
  {
   "cell_type": "code",
   "execution_count": 15,
   "metadata": {},
   "outputs": [],
   "source": [
    "# Load the data set\n",
    "gen_nu = \"8.17\"\n",
    "gen_noise = \"sig0.4\"\n",
    "gen_dt = \"0.001\"\n",
    "gen_delta_t = \"0.025\"\n",
    "gen_integrator = \"RK4\"\n",
    "\n",
    "# Specify the data path\n",
    "datapath = (\"./L96_D%s_nu%s_%s_dt%s_deltat%s_%s.mat\" % \n",
    "    (str(D), gen_nu, gen_noise, gen_dt, gen_delta_t, gen_integrator))\n",
    "\n",
    "if datapath[-3:] == \"mat\":\n",
    "    datadict = sio.loadmat(datapath)\n",
    "    data = datadict[\"Data\"]\n",
    "    dt = datadict[\"delta_t\"][0]\n",
    "elif datapath[-3:] == \"npy\":\n",
    "    data = np.load(datapath)\n",
    "else:\n",
    "    raise IOError (\"Does not recognize data file extension\\n datapath = %s\" % datapath)\n",
    "    sys.exit()"
   ]
  },
  {
   "cell_type": "code",
   "execution_count": 21,
   "metadata": {},
   "outputs": [],
   "source": [
    "# Prepare the data\n",
    "Y = data[dim_obs,:M]\n",
    "\n",
    "#Initialize the state variables\n",
    "nu_init = 8\n",
    "\n",
    "np.random.seed(12345)\n",
    "X_init = np.zeros((D,M))\n",
    "X_init[:,0] = 20*np.random.random(size=(D))\n",
    "X_init[dim_obs, :] = Y\n",
    "\n",
    "for k in range(0, M-1): # should be M -1??\n",
    "    X_init[:,k+1] = X_init[:,k] + dt *  L96(X_init[:,k]+dt/2*L96(X_init[:,k], nu_init),nu_init)\n",
    "    X_init[dim_obs,k+1] = Y[:,k+1]"
   ]
  },
  {
   "cell_type": "code",
   "execution_count": 51,
   "metadata": {},
   "outputs": [],
   "source": [
    "# Initilize vectorized dirac delta functions\n",
    "eyeDleft1 = np.roll(np.eye(D), -1, 1)\n",
    "eyeDleft2 = np.roll(np.eye(D),-2,1)\n",
    "eyeDright = np.roll(np.eye(D),1,1)\n",
    "\n",
    "# Some initializations for HMC\n",
    "\n",
    "# Define the Rf ladder\n",
    "Rf = Rf0 * (alpha**(np.arange(0,betamax)))\n",
    "\n",
    "# Initialize the solutions\n",
    "X_sol = X_init\n",
    "nu_sol = nu_init\n",
    "# Initialize the final output cell array. (It is a dictionary in order to replicate the cells data type in MATLAB)\n",
    "q_min = {'X_sol': X_sol, 'nu_sol': nu_sol}\n",
    "\n",
    "#Initialize action matrix\n",
    "Action = np.zeros(shape=(betamax, niter))  #in MATLAB code, the shape is (betamax, niter+1). Not sure why the +1\n",
    "Action_min = np.zeros(shape=(betamax,1))\n",
    "\n",
    "# Percentage acceptance and percentage downhill\n",
    "Acceptance = np.zeros(shape=(betamax,1))\n",
    "Downhill = np.zeros(shape=(betamax, 1))\n",
    "\n",
    "# Initialize Momentum\n",
    "pX0 = np.zeros(shape=(D,M))"
   ]
  },
  {
   "cell_type": "code",
   "execution_count": 54,
   "metadata": {},
   "outputs": [
    {
     "name": "stdout",
     "output_type": "stream",
     "text": [
      "1\n"
     ]
    }
   ],
   "source": [
    "# Hamiltonian Monte Carlo Algorithm\n",
    "\n",
    "for beta in range(1, betamax+1):\n",
    "    # Initialize states (i.e. take the results from the previous step)\n",
    "    X0 = X_sol\n",
    "    X0(dim_obs,:) = Y  # Is this really necessary?\n",
    "    nu0 = nu_sol\n",
    "    \n",
    "    # Evaluate the starting action under current beta\n",
    "    Xup1, Xdown2, Xleft1, Zup1, Zdown2, Zdown1, hX = fun_getPieces(X, nu, dt)\n",
    "    Action[beta-1, 1] = fun_A(X0, Xleft1, hX, Y, dim_obs, M, Rm, Rf[beta-1])\n",
    "    Action_min[beta-1] = Action[beta-1, 1]\n",
    "    \n",
    "    print(\"Start annealing for beta = %d ...\" % beta)\n",
    "    start_time = time.time()\n",
    "    \n",
    "    for n in range(2, niter+1):\n",
    "        eps = epsilon[n-1]"
   ]
  },
  {
   "cell_type": "code",
   "execution_count": null,
   "metadata": {},
   "outputs": [],
   "source": [
    "def fun_getPieces(X, nu, dt):\n",
    "    Xup1 = np.roll(X, -1, 0)\n",
    "    Xdown1 = np.roll(X, 1, 0)\n",
    "    Xdown2 = np.roll(X, 2, 0)\n",
    "    Xleft1 = np.roll(X, -1, 1)\n",
    "    \n",
    "    Z = X + dt/2* (np.multiply(Xup1 - Xdown2, Xdown1) - X + nu)\n",
    "    Zup1 = np.roll(Z, -1, 0)\n",
    "    Zdown1 = np.roll(Z, 1, 0)\n",
    "    Zdown2 = np.roll(Z, 2, 0)\n",
    "    \n",
    "    hX = X + dt * (np.multiply(Zup1 - Zdown2, Zdown1) - Z + nu)\n",
    "    \n",
    "    return Xup1, Xdown2, Xleft1, Zup1, Zdown2, Zdown1, hX"
   ]
  },
  {
   "cell_type": "code",
   "execution_count": 60,
   "metadata": {},
   "outputs": [],
   "source": [
    "def fun_A(X0, Xleft1, hX, Y, dim_obs, M, Rm, Rf):\n",
    "    kern1 = Rm/(2*M) * np.sum((X[dim_obs,:] - Y)**2)\n",
    "    \n",
    "    kern2 = Xleft1 - hX\n",
    "    kern2 = Rf/(2*M) * np.sum(kern2[:,:M-1]**2) # Is this right? I feel like it's leaving out one column\n",
    "    \n",
    "    return kern1 + kern2"
   ]
  },
  {
   "cell_type": "code",
   "execution_count": 57,
   "metadata": {},
   "outputs": [
    {
     "data": {
      "text/plain": [
       "array([[0, 1, 2],\n",
       "       [3, 4, 5],\n",
       "       [6, 7, 8]])"
      ]
     },
     "metadata": {},
     "output_type": "display_data"
    }
   ],
   "source": [
    "testarray = np.arange(9).reshape((3,3))\n",
    "display(testarray)"
   ]
  },
  {
   "cell_type": "code",
   "execution_count": 59,
   "metadata": {},
   "outputs": [
    {
     "data": {
      "text/plain": [
       "204"
      ]
     },
     "execution_count": 59,
     "metadata": {},
     "output_type": "execute_result"
    }
   ],
   "source": []
  },
  {
   "cell_type": "code",
   "execution_count": null,
   "metadata": {},
   "outputs": [],
   "source": []
  },
  {
   "cell_type": "code",
   "execution_count": null,
   "metadata": {},
   "outputs": [],
   "source": []
  },
  {
   "cell_type": "code",
   "execution_count": null,
   "metadata": {},
   "outputs": [],
   "source": []
  },
  {
   "cell_type": "code",
   "execution_count": null,
   "metadata": {},
   "outputs": [],
   "source": []
  },
  {
   "cell_type": "code",
   "execution_count": null,
   "metadata": {},
   "outputs": [],
   "source": [
    "def generate_data():\n",
    "    \"\"\"\n",
    "        This function is optional, in case you do not want to use previous data\n",
    "    \"\"\"\n",
    "    # Set the hyperparamters for generating the data\n",
    "    # stepsize = dt\n",
    "    stepsize = 0.01\n",
    "\n",
    "    # How many time points\n",
    "    steps = 1000\n",
    "\n",
    "    # Initial point\n",
    "    np.random.seed(123456)\n",
    "    D = 20\n",
    "    y0 = np.random.random(D)*3\n",
    "    t0 = 0\n",
    "    F = 8\n",
    "\n",
    "    sample = Lorenz96(y0, t0, D, F)\n",
    "    data = sample.generate(stepsize=stepsize, steps=steps, addNoise=True, noise_level=0.04)\n",
    "    return data"
   ]
  }
 ],
 "metadata": {
  "kernelspec": {
   "display_name": "Python 2",
   "language": "python",
   "name": "python2"
  },
  "language_info": {
   "codemirror_mode": {
    "name": "ipython",
    "version": 2
   },
   "file_extension": ".py",
   "mimetype": "text/x-python",
   "name": "python",
   "nbconvert_exporter": "python",
   "pygments_lexer": "ipython2",
   "version": "2.7.15"
  }
 },
 "nbformat": 4,
 "nbformat_minor": 2
}
