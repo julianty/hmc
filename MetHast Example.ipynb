{
 "cells": [
  {
   "cell_type": "code",
   "execution_count": 1,
   "metadata": {},
   "outputs": [],
   "source": [
    "import numpy as np\n",
    "import matplotlib.pyplot as plt"
   ]
  },
  {
   "cell_type": "code",
   "execution_count": 51,
   "metadata": {},
   "outputs": [],
   "source": [
    "def f(x):\n",
    "    return x**2*np.exp(-x)"
   ]
  },
  {
   "cell_type": "code",
   "execution_count": 54,
   "metadata": {},
   "outputs": [],
   "source": [
    "iterations = 20000\n",
    "results = []\n",
    "np.random.seed(123)\n",
    "x = np.random.randn()\n",
    "for i in xrange(iterations):\n",
    "    #propose y\n",
    "    y = np.random.uniform(x-2, x+2)\n",
    "    if y < 0:\n",
    "        continue\n",
    "    \n",
    "    # Acceptance\n",
    "    if 1 < f(y)/f(x):\n",
    "        results.append(y)\n",
    "        x = y\n",
    "    elif np.random.uniform(0,1) < f(y)/f(x):\n",
    "        results.append(y)\n",
    "        x = y\n",
    "    else:\n",
    "        continue"
   ]
  },
  {
   "cell_type": "code",
   "execution_count": 56,
   "metadata": {
    "slideshow": {
     "slide_type": "-"
    }
   },
   "outputs": [
    {
     "data": {
      "image/png": "[encoded data removed]",
      "text/plain": [
       "<Figure size 432x288 with 1 Axes>"
      ]
     },
     "metadata": {
      "needs_background": "light"
     },
     "output_type": "display_data"
    }
   ],
   "source": [
    "plt.hist(results, bins=60)\n",
    "plt.show()\n",
    "t = np.linspace(0,15,1000)\n",
    "plt.plot(t, f(t))\n",
    "plt.show()"
   ]
  }
 ],
 "metadata": {
  "kernelspec": {
   "display_name": "Python 2",
   "language": "python",
   "name": "python2"
  },
  "language_info": {
   "codemirror_mode": {
    "name": "ipython",
    "version": 2
   },
   "file_extension": ".py",
   "mimetype": "text/x-python",
   "name": "python",
   "nbconvert_exporter": "python",
   "pygments_lexer": "ipython2",
   "version": "2.7.15"
  }
 },
 "nbformat": 4,
 "nbformat_minor": 2
}
