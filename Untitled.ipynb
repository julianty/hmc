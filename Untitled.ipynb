{
 "cells": [
  {
   "cell_type": "code",
   "execution_count": 12,
   "metadata": {},
   "outputs": [],
   "source": [
    "# Objective of this is to create a functional Runge-Kutta\n",
    "\n",
    "import numpy as np\n",
    "import matplotlib.pyplot as plt\n",
    "\n",
    "stepsize = 0.01\n",
    "\n",
    "# Define differential equation\n",
    "def yprime(t, y):\n",
    "    return t\n",
    "\n",
    "# Initial point\n",
    "y = 0\n",
    "t = 0\n",
    "\n",
    "# Record results\n",
    "path = []\n",
    "\n",
    "steps = 1000\n",
    "for i in xrange(steps):\n",
    "    k1 = stepsize * yprime(t, y)\n",
    "    k2 = stepsize * yprime(t + stepsize/2, y + k1/2)\n",
    "    k3 = stepsize * yprime(t + stepsize/2, y + k2/2)\n",
    "    k4 = stepsize * yprime(t + stepsize, y + k3)\n",
    "    \n",
    "    # Update path\n",
    "    y = y + (k1 + 2*k2 + 2*k3 + k4)/6\n",
    "    t = t + stepsize\n",
    "    path.append(y)\n",
    "    \n"
   ]
  },
  {
   "cell_type": "code",
   "execution_count": 13,
   "metadata": {},
   "outputs": [
    {
     "data": {
      "text/plain": [
       "[<matplotlib.lines.Line2D at 0x106cd6a90>]"
      ]
     },
     "execution_count": 13,
     "metadata": {},
     "output_type": "execute_result"
    },
    {
     "data": {
      "image/png": "[encoded data removed]",
      "text/plain": [
       "<Figure size 432x288 with 1 Axes>"
      ]
     },
     "metadata": {
      "needs_background": "light"
     },
     "output_type": "display_data"
    }
   ],
   "source": [
    "plt.plot(path)"
   ]
  },
  {
   "cell_type": "code",
   "execution_count": null,
   "metadata": {},
   "outputs": [],
   "source": []
  }
 ],
 "metadata": {
  "kernelspec": {
   "display_name": "Python 2",
   "language": "python",
   "name": "python2"
  },
  "language_info": {
   "codemirror_mode": {
    "name": "ipython",
    "version": 2
   },
   "file_extension": ".py",
   "mimetype": "text/x-python",
   "name": "python",
   "nbconvert_exporter": "python",
   "pygments_lexer": "ipython2",
   "version": "2.7.15"
  }
 },
 "nbformat": 4,
 "nbformat_minor": 2
}
