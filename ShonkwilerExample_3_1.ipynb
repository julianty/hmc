{
 "cells": [
  {
   "cell_type": "code",
   "execution_count": 2,
   "metadata": {},
   "outputs": [],
   "source": [
    "import numpy as np\n",
    "import matplotlib.pyplot as plt"
   ]
  },
  {
   "cell_type": "code",
   "execution_count": 3,
   "metadata": {},
   "outputs": [],
   "source": [
    "def Energy(x):\n",
    "    return (x - 3)**2"
   ]
  },
  {
   "cell_type": "code",
   "execution_count": 143,
   "metadata": {},
   "outputs": [
    {
     "name": "stdout",
     "output_type": "stream",
     "text": [
      "5.80668\n"
     ]
    }
   ],
   "source": [
    "# Initialize x\n",
    "x = np.random.randint(1,9)\n",
    "# Initialize chain\n",
    "chain = []\n",
    "# Initialize running sum\n",
    "rad = 0\n",
    "\n",
    "iterations = 200000\n",
    "for i in xrange(iterations):\n",
    "    # Propose y (this will probably maximal neighborhood)\n",
    "    # y = np.random.randint(1,9)\n",
    "    \n",
    "    # Propose y (but not maximal neighborhood)\n",
    "    if np.random.uniform(0,1) < 0.5:\n",
    "        if x != 1:\n",
    "            y = x - 1\n",
    "        else:\n",
    "            y = x\n",
    "    else:\n",
    "        if x != 8:\n",
    "            y = x + 1\n",
    "        else:\n",
    "            x = x\n",
    "    \n",
    "    # Compute h\n",
    "    def h(y, x):\n",
    "        return min(1, np.exp(-(Energy(y) - Energy(x))))\n",
    "    \n",
    "    # Step forward\n",
    "    if h(y,x) > np.random.uniform(0,1):\n",
    "        # Update x\n",
    "        x = y\n",
    "    \n",
    "    # Update running sum of radiation\n",
    "    rad += Energy(x)**4\n",
    "    \n",
    "    # Record results\n",
    "    chain.append(x)\n",
    "\n",
    "print(float(rad)/iterations)"
   ]
  },
  {
   "cell_type": "code",
   "execution_count": 144,
   "metadata": {},
   "outputs": [
    {
     "data": {
      "text/plain": [
       "(array([2.05800e+03, 0.00000e+00, 4.15900e+04, 0.00000e+00, 1.12514e+05,\n",
       "        0.00000e+00, 4.17590e+04, 0.00000e+00, 2.07600e+03, 3.00000e+00]),\n",
       " array([1. , 1.5, 2. , 2.5, 3. , 3.5, 4. , 4.5, 5. , 5.5, 6. ]),\n",
       " <a list of 10 Patch objects>)"
      ]
     },
     "execution_count": 144,
     "metadata": {},
     "output_type": "execute_result"
    },
    {
     "data": {
      "image/png": "[encoded data removed]",
      "text/plain": [
       "<Figure size 432x288 with 1 Axes>"
      ]
     },
     "metadata": {
      "needs_background": "light"
     },
     "output_type": "display_data"
    }
   ],
   "source": [
    "plt.hist(chain)"
   ]
  },
  {
   "cell_type": "code",
   "execution_count": 131,
   "metadata": {},
   "outputs": [],
   "source": [
    "# Find the transition matrix\n",
    "\n",
    "# Initialize array\n",
    "P = np.zeros((8,8))\n",
    "\n",
    "for i in xrange(8):\n",
    "    for j in xrange(8):\n",
    "        P[i,j] = np.exp(-(Energy(j) - Energy(i)))\n",
    "\n",
    "eigenvalues, eigenvectors = np.linalg.eig(P)"
   ]
  },
  {
   "cell_type": "code",
   "execution_count": 137,
   "metadata": {},
   "outputs": [],
   "source": [
    "eiglist = list(eigenvalues)"
   ]
  },
  {
   "cell_type": "code",
   "execution_count": 139,
   "metadata": {},
   "outputs": [
    {
     "data": {
      "text/plain": [
       "(8.000000000000002+0j)"
      ]
     },
     "execution_count": 139,
     "metadata": {},
     "output_type": "execute_result"
    }
   ],
   "source": [
    "eiglist.pop(eiglist.index(max(eigenvalues)))"
   ]
  },
  {
   "cell_type": "code",
   "execution_count": 141,
   "metadata": {},
   "outputs": [
    {
     "data": {
      "text/plain": [
       "(8.881784197001252e-16+0j)"
      ]
     },
     "execution_count": 141,
     "metadata": {},
     "output_type": "execute_result"
    }
   ],
   "source": [
    "max(eiglist)"
   ]
  },
  {
   "cell_type": "code",
   "execution_count": null,
   "metadata": {},
   "outputs": [],
   "source": []
  }
 ],
 "metadata": {
  "kernelspec": {
   "display_name": "Python 2",
   "language": "python",
   "name": "python2"
  },
  "language_info": {
   "codemirror_mode": {
    "name": "ipython",
    "version": 2
   },
   "file_extension": ".py",
   "mimetype": "text/x-python",
   "name": "python",
   "nbconvert_exporter": "python",
   "pygments_lexer": "ipython2",
   "version": "2.7.15"
  }
 },
 "nbformat": 4,
 "nbformat_minor": 2
}
